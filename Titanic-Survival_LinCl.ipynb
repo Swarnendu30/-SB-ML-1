{
 "cells": [
  {
   "cell_type": "code",
   "execution_count": 1,
   "id": "b7ff6ad0",
   "metadata": {
    "_cell_guid": "b1076dfc-b9ad-4769-8c92-a6c4dae69d19",
    "_uuid": "8f2839f25d086af736a60e9eeb907d3b93b6e0e5",
    "execution": {
     "iopub.execute_input": "2022-07-20T09:13:55.969606Z",
     "iopub.status.busy": "2022-07-20T09:13:55.969179Z",
     "iopub.status.idle": "2022-07-20T09:14:05.259485Z",
     "shell.execute_reply": "2022-07-20T09:14:05.257866Z"
    },
    "papermill": {
     "duration": 9.297509,
     "end_time": "2022-07-20T09:14:05.261817",
     "exception": false,
     "start_time": "2022-07-20T09:13:55.964308",
     "status": "completed"
    },
    "tags": []
   },
   "outputs": [
    {
     "name": "stdout",
     "output_type": "stream",
     "text": [
      "/kaggle/input/titanic/train.csv\n",
      "/kaggle/input/titanic/test.csv\n",
      "/kaggle/input/titanic/gender_submission.csv\n"
     ]
    }
   ],
   "source": [
    "# This Python 3 environment comes with many helpful analytics libraries installed\n",
    "# It is defined by the kaggle/python Docker image: https://github.com/kaggle/docker-python\n",
    "# For example, here's several helpful packages to load\n",
    "\n",
    "import numpy as np # linear algebra\n",
    "import pandas as pd # data processing, CSV file I/O (e.g. pd.read_csv)\n",
    "import tensorflow as tf\n",
    "\n",
    "# Input data files are available in the read-only \"../input/\" directory\n",
    "# For example, running this (by clicking run or pressing Shift+Enter) will list all files under the input directory\n",
    "\n",
    "import os\n",
    "for dirname, _, filenames in os.walk('/kaggle/input'):\n",
    "    for filename in filenames:\n",
    "        print(os.path.join(dirname, filename))\n",
    "\n",
    "# You can write up to 20GB to the current directory (/kaggle/working/) that gets preserved as output when you create a version using \"Save & Run All\" \n",
    "# You can also write temporary files to /kaggle/temp/, but they won't be saved outside of the current session"
   ]
  },
  {
   "cell_type": "code",
   "execution_count": 2,
   "id": "e81edddd",
   "metadata": {
    "execution": {
     "iopub.execute_input": "2022-07-20T09:14:05.269430Z",
     "iopub.status.busy": "2022-07-20T09:14:05.268709Z",
     "iopub.status.idle": "2022-07-20T09:14:05.315517Z",
     "shell.execute_reply": "2022-07-20T09:14:05.314552Z"
    },
    "papermill": {
     "duration": 0.053711,
     "end_time": "2022-07-20T09:14:05.318397",
     "exception": false,
     "start_time": "2022-07-20T09:14:05.264686",
     "status": "completed"
    },
    "tags": []
   },
   "outputs": [],
   "source": [
    "train_dataset = pd.read_csv('/kaggle/input/titanic/train.csv')\n",
    "test_dataset = pd.read_csv('/kaggle/input/titanic/test.csv')\n",
    "\n",
    "train_dataset.drop(columns='Cabin',inplace=True)\n",
    "train_dataset.drop(columns='Embarked',inplace=True)\n",
    "test_dataset.drop(columns='Embarked',inplace=True)\n",
    "test_dataset.drop(columns='Cabin',inplace=True)\n",
    "#train_dataset.isna().sum()\n",
    "#test_dataset.isna().sum()\n",
    "train_dataset.fillna(27.0,inplace=True)\n",
    "test_dataset.fillna(27.0,inplace=True)"
   ]
  },
  {
   "cell_type": "code",
   "execution_count": 3,
   "id": "34c9c076",
   "metadata": {
    "execution": {
     "iopub.execute_input": "2022-07-20T09:14:05.329417Z",
     "iopub.status.busy": "2022-07-20T09:14:05.328085Z",
     "iopub.status.idle": "2022-07-20T09:14:05.338715Z",
     "shell.execute_reply": "2022-07-20T09:14:05.337985Z"
    },
    "papermill": {
     "duration": 0.017962,
     "end_time": "2022-07-20T09:14:05.340646",
     "exception": false,
     "start_time": "2022-07-20T09:14:05.322684",
     "status": "completed"
    },
    "tags": []
   },
   "outputs": [],
   "source": [
    "y_train = train_dataset.pop('Survived')\n",
    "\n",
    "temp=[]\n",
    "i=0\n",
    "while i<418:\n",
    "    temp.append(1)\n",
    "    i=i+1\n",
    "y_test = pd.DataFrame(temp, columns=['Survived'])"
   ]
  },
  {
   "cell_type": "code",
   "execution_count": 4,
   "id": "2d2b682e",
   "metadata": {
    "execution": {
     "iopub.execute_input": "2022-07-20T09:14:05.351170Z",
     "iopub.status.busy": "2022-07-20T09:14:05.350830Z",
     "iopub.status.idle": "2022-07-20T09:14:05.355679Z",
     "shell.execute_reply": "2022-07-20T09:14:05.354302Z"
    },
    "papermill": {
     "duration": 0.012712,
     "end_time": "2022-07-20T09:14:05.357739",
     "exception": false,
     "start_time": "2022-07-20T09:14:05.345027",
     "status": "completed"
    },
    "tags": []
   },
   "outputs": [],
   "source": [
    "#train_dataset.Fare.hist(bins=20)\n",
    "#train_dataset.Sex.value_counts().plot(kind='barh')\n",
    "#train_dataset['Pclass'].value_counts().plot(kind='barh')\n",
    "#pd.concat([train_dataset, y_train], axis=1).groupby('Sex').Survived.mean().plot(kind='barh').set_xlabel('% survive')"
   ]
  },
  {
   "cell_type": "code",
   "execution_count": 5,
   "id": "783dbb52",
   "metadata": {
    "execution": {
     "iopub.execute_input": "2022-07-20T09:14:05.367363Z",
     "iopub.status.busy": "2022-07-20T09:14:05.367028Z",
     "iopub.status.idle": "2022-07-20T09:14:05.375097Z",
     "shell.execute_reply": "2022-07-20T09:14:05.373460Z"
    },
    "papermill": {
     "duration": 0.015646,
     "end_time": "2022-07-20T09:14:05.377449",
     "exception": false,
     "start_time": "2022-07-20T09:14:05.361803",
     "status": "completed"
    },
    "tags": []
   },
   "outputs": [
    {
     "name": "stdout",
     "output_type": "stream",
     "text": [
      "[VocabularyListCategoricalColumn(key='Pclass', vocabulary_list=(3, 1, 2), dtype=tf.int64, default_value=-1, num_oov_buckets=0), VocabularyListCategoricalColumn(key='Sex', vocabulary_list=('male', 'female'), dtype=tf.string, default_value=-1, num_oov_buckets=0), NumericColumn(key='Age', shape=(1,), default_value=None, dtype=tf.float32, normalizer_fn=None), NumericColumn(key='SibSp', shape=(1,), default_value=None, dtype=tf.float32, normalizer_fn=None), NumericColumn(key='Parch', shape=(1,), default_value=None, dtype=tf.float32, normalizer_fn=None)]\n"
     ]
    }
   ],
   "source": [
    "CATEGORICAL_COLUMNS = ['Pclass','Sex']\n",
    "NUMERIC_COLUMNS = ['Age','SibSp','Parch']\n",
    "\n",
    "feature_columns = []\n",
    "for feature_name in CATEGORICAL_COLUMNS:\n",
    "  vocabulary = train_dataset[feature_name].unique() \n",
    "  feature_columns.append(tf.feature_column.categorical_column_with_vocabulary_list(feature_name, vocabulary))\n",
    "\n",
    "for feature_name in NUMERIC_COLUMNS:\n",
    "  feature_columns.append(tf.feature_column.numeric_column(feature_name, dtype=tf.float32))\n",
    "\n",
    "print(feature_columns)"
   ]
  },
  {
   "cell_type": "code",
   "execution_count": 6,
   "id": "f5756c80",
   "metadata": {
    "execution": {
     "iopub.execute_input": "2022-07-20T09:14:05.386868Z",
     "iopub.status.busy": "2022-07-20T09:14:05.386542Z",
     "iopub.status.idle": "2022-07-20T09:14:05.391911Z",
     "shell.execute_reply": "2022-07-20T09:14:05.391311Z"
    },
    "papermill": {
     "duration": 0.012263,
     "end_time": "2022-07-20T09:14:05.393792",
     "exception": false,
     "start_time": "2022-07-20T09:14:05.381529",
     "status": "completed"
    },
    "tags": []
   },
   "outputs": [],
   "source": [
    "def make_input_fn(data_df, label_df, num_epochs=10, shuffle=True, batch_size=32):\n",
    "  def input_function():  \n",
    "    ds = tf.data.Dataset.from_tensor_slices((dict(data_df), label_df)) \n",
    "    if shuffle:\n",
    "      ds = ds.shuffle(1000) \n",
    "    ds = ds.batch(batch_size).repeat(num_epochs)\n",
    "    return ds  \n",
    "  return input_function \n",
    "\n",
    "train_input_fn = make_input_fn(train_dataset, y_train)  \n",
    "eval_input_fn = make_input_fn(test_dataset, y_test, num_epochs=1, shuffle=False)"
   ]
  },
  {
   "cell_type": "code",
   "execution_count": 7,
   "id": "dd92d992",
   "metadata": {
    "execution": {
     "iopub.execute_input": "2022-07-20T09:14:05.404059Z",
     "iopub.status.busy": "2022-07-20T09:14:05.403711Z",
     "iopub.status.idle": "2022-07-20T09:14:07.198738Z",
     "shell.execute_reply": "2022-07-20T09:14:07.197387Z"
    },
    "papermill": {
     "duration": 1.803141,
     "end_time": "2022-07-20T09:14:07.201165",
     "exception": false,
     "start_time": "2022-07-20T09:14:05.398024",
     "status": "completed"
    },
    "tags": []
   },
   "outputs": [],
   "source": [
    "linear_est = tf.estimator.LinearClassifier(feature_columns=feature_columns)"
   ]
  },
  {
   "cell_type": "code",
   "execution_count": 8,
   "id": "57a45d2b",
   "metadata": {
    "execution": {
     "iopub.execute_input": "2022-07-20T09:14:07.208393Z",
     "iopub.status.busy": "2022-07-20T09:14:07.208026Z",
     "iopub.status.idle": "2022-07-20T09:14:11.185783Z",
     "shell.execute_reply": "2022-07-20T09:14:11.184303Z"
    },
    "papermill": {
     "duration": 3.983711,
     "end_time": "2022-07-20T09:14:11.187936",
     "exception": false,
     "start_time": "2022-07-20T09:14:07.204225",
     "status": "completed"
    },
    "tags": []
   },
   "outputs": [
    {
     "name": "stderr",
     "output_type": "stream",
     "text": [
      "/opt/conda/lib/python3.7/site-packages/keras/engine/base_layer_v1.py:1684: UserWarning: `layer.add_variable` is deprecated and will be removed in a future version. Please use `layer.add_weight` method instead.\n",
      "  warnings.warn('`layer.add_variable` is deprecated and '\n",
      "2022-07-20 09:14:08.384518: I tensorflow/core/common_runtime/process_util.cc:146] Creating new thread pool with default inter op setting: 2. Tune using inter_op_parallelism_threads for best performance.\n"
     ]
    },
    {
     "data": {
      "text/plain": [
       "<tensorflow_estimator.python.estimator.canned.linear.LinearClassifierV2 at 0x7f453111b8d0>"
      ]
     },
     "execution_count": 8,
     "metadata": {},
     "output_type": "execute_result"
    }
   ],
   "source": [
    "linear_est.train(train_input_fn)"
   ]
  },
  {
   "cell_type": "code",
   "execution_count": 9,
   "id": "fc98c720",
   "metadata": {
    "execution": {
     "iopub.execute_input": "2022-07-20T09:14:11.196448Z",
     "iopub.status.busy": "2022-07-20T09:14:11.196088Z",
     "iopub.status.idle": "2022-07-20T09:14:11.928909Z",
     "shell.execute_reply": "2022-07-20T09:14:11.927381Z"
    },
    "papermill": {
     "duration": 0.740651,
     "end_time": "2022-07-20T09:14:11.931597",
     "exception": false,
     "start_time": "2022-07-20T09:14:11.190946",
     "status": "completed"
    },
    "tags": []
   },
   "outputs": [
    {
     "name": "stderr",
     "output_type": "stream",
     "text": [
      "/opt/conda/lib/python3.7/site-packages/keras/engine/base_layer_v1.py:1684: UserWarning: `layer.add_variable` is deprecated and will be removed in a future version. Please use `layer.add_weight` method instead.\n",
      "  warnings.warn('`layer.add_variable` is deprecated and '\n"
     ]
    }
   ],
   "source": [
    "pred_dicts = list(linear_est.predict(eval_input_fn))\n",
    "probs = pd.Series([pred['probabilities'][1] for pred in pred_dicts])\n",
    "\n",
    "output = test_dataset[['PassengerId']].copy()\n",
    "output['Predictions'] = probs\n",
    "output.to_csv(\"Submission.csv\")"
   ]
  }
 ],
 "metadata": {
  "kernelspec": {
   "display_name": "Python 3",
   "language": "python",
   "name": "python3"
  },
  "language_info": {
   "codemirror_mode": {
    "name": "ipython",
    "version": 3
   },
   "file_extension": ".py",
   "mimetype": "text/x-python",
   "name": "python",
   "nbconvert_exporter": "python",
   "pygments_lexer": "ipython3",
   "version": "3.7.12"
  },
  "papermill": {
   "default_parameters": {},
   "duration": 29.853669,
   "end_time": "2022-07-20T09:14:14.700178",
   "environment_variables": {},
   "exception": null,
   "input_path": "__notebook__.ipynb",
   "output_path": "__notebook__.ipynb",
   "parameters": {},
   "start_time": "2022-07-20T09:13:44.846509",
   "version": "2.3.4"
  }
 },
 "nbformat": 4,
 "nbformat_minor": 5
}
